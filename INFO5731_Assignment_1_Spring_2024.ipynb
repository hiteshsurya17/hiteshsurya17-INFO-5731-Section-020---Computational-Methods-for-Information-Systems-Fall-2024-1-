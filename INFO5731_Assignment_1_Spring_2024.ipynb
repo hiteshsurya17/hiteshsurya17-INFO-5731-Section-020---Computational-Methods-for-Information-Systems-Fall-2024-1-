{
  "cells": [
    {
      "cell_type": "markdown",
      "metadata": {
        "id": "view-in-github",
        "colab_type": "text"
      },
      "source": [
        "<a href=\"https://colab.research.google.com/github/hiteshsurya17/hiteshsurya17-INFO-5731-Section-020---Computational-Methods-for-Information-Systems-Fall-2024-1-/blob/main/INFO5731_Assignment_1_Spring_2024.ipynb\" target=\"_parent\"><img src=\"https://colab.research.google.com/assets/colab-badge.svg\" alt=\"Open In Colab\"/></a>"
      ]
    },
    {
      "cell_type": "markdown",
      "metadata": {
        "id": "Ryk8D1Q4Wsrp"
      },
      "source": [
        "# **INFO5731 Assignment One**"
      ]
    },
    {
      "cell_type": "markdown",
      "source": [
        "This assignment includes range of programming tasks and data analysis exercises, aiming to enhance your Python skills and proficiency in string manipulation, numerical computations, and data science. Follow the instructions carefully and design well-structured Python programs to address each question.\n",
        "\n",
        "Late Submission will have a penalty of 10% reduction for each day after the deadline."
      ],
      "metadata": {
        "id": "qcP6re2g5A5r"
      }
    },
    {
      "cell_type": "markdown",
      "metadata": {
        "id": "JkzR8cFAyGik"
      },
      "source": [
        "# Question 1 (10 points).\n",
        "\n",
        "The formula that describes the volume V of a hemisphere with radius r is the following:\n",
        "\n",
        "$ V=\\frac{2}{3}\\ast\\ \\pi\\ast\\ r^3 $\n",
        "\n",
        "Write a program to calculate the value of V when r is in the range of even numbers from 1-20. Output the result in the following format:\n",
        "\n",
        "\tr\tV\n",
        "\t2\t…\n",
        "\t4\t…\n",
        "\t6\t…\n",
        "\t.\n",
        "\t.\n",
        "\t.\n",
        "\t20\t…\n"
      ]
    },
    {
      "cell_type": "code",
      "execution_count": 9,
      "metadata": {
        "id": "jDyTKYs-yGit",
        "colab": {
          "base_uri": "https://localhost:8080/"
        },
        "outputId": "168fc949-ffdd-41fd-eea4-af804bbda25d"
      },
      "outputs": [
        {
          "output_type": "stream",
          "name": "stdout",
          "text": [
            "r\tV\n",
            "2\t16.76\n",
            "4\t134.04\n",
            "6\t452.39\n",
            "8\t1072.33\n",
            "10\t2094.40\n",
            "12\t3619.11\n",
            "14\t5747.02\n",
            "16\t8578.64\n",
            "18\t12214.51\n",
            "20\t16755.16\n"
          ]
        }
      ],
      "source": [
        "import math\n",
        "\n",
        "def volume_of_hemisphere(r):\n",
        "    return (2 / 3) * math.pi * (r ** 3)\n",
        "\n",
        "print(\"r\\tV\")\n",
        "\n",
        "for r in range(2, 21, 2):\n",
        "    V = volume_of_hemisphere(r)\n",
        "    print(f\"{r}\\t{V:.2f}\")\n"
      ]
    },
    {
      "cell_type": "markdown",
      "metadata": {
        "id": "90_NR8c5XGWc"
      },
      "source": [
        "# Question 2 (20 points)\n",
        "\n",
        "(a) Write a Python program to generate a sequence of 12 random numbers falling within the range of 50 to 150.\n",
        "\n",
        "(b) Arrange the generated numbers in ascending order. Display the sorted list.\n",
        "\n",
        "(c) Extend the program to arrange the numbers in descending order as well. Present the sorted list accordingly.\n",
        "\n",
        "(d) Compute and output the average of the entire group of generated numbers.\n",
        "\n",
        "(e) Enhance the program to calculate and display the average of the first 6 numbers from both the ascending and descending sorted lists."
      ]
    },
    {
      "cell_type": "code",
      "execution_count": 10,
      "metadata": {
        "id": "5QX6bJjGWXY9",
        "colab": {
          "base_uri": "https://localhost:8080/"
        },
        "outputId": "4a22b9fe-04b2-4ccf-eec8-e6b3f45c62ee"
      },
      "outputs": [
        {
          "output_type": "stream",
          "name": "stdout",
          "text": [
            "list of random numbers:\n",
            "[117, 110, 101, 81, 84, 137, 80, 92, 92, 123, 117, 85]\n",
            "\n",
            "Ascending order:\n",
            "[80, 81, 84, 85, 92, 92, 101, 110, 117, 117, 123, 137]\n",
            "\n",
            "Descending order:\n",
            "[137, 123, 117, 117, 110, 101, 92, 92, 85, 84, 81, 80]\n",
            "\n",
            "Average of all numbers:\n",
            "101.58333333333333\n",
            "\n",
            "Average of the first 6 numbers in ascending order:\n",
            "85.66666666666667\n",
            "\n",
            "Average of the first 6 numbers in descending order:\n",
            "117.5\n"
          ]
        }
      ],
      "source": [
        "import random\n",
        "\n",
        "# (a) generate a sequence of 12 random numbers falling within the range of 50 to 150.\n",
        "numbers = [random.randint(50, 150) for i in range(12)]\n",
        "print(\"list of random numbers:\")\n",
        "print(numbers)\n",
        "\n",
        "# (b) Arrange the generated numbers in ascending order. Display the sorted list.\n",
        "ascending_numbers = sorted(numbers)\n",
        "print(\"\\nAscending order:\")\n",
        "print(ascending_numbers)\n",
        "\n",
        "# (c) Arrange the generated numbers in descending order. Display the sorted list.\n",
        "descending_numbers = sorted(numbers, reverse=True)\n",
        "print(\"\\nDescending order:\")\n",
        "print(descending_numbers)\n",
        "\n",
        "# (d) Compute and output the average of the entire group of generated numbers.\n",
        "average_numbers = sum(numbers) / len(numbers)\n",
        "print(\"\\nAverage of all numbers:\")\n",
        "print(f\"{average_numbers}\")\n",
        "\n",
        "# (e) calculate and display the average of the first 6 numbers from both the ascending and descending sorted lists.\n",
        "def average_of_first_n(numbers, n):\n",
        "    return sum(numbers[:n]) / n\n",
        "\n",
        "average_ascending_first_6 = average_of_first_n(ascending_numbers, 6)\n",
        "average_descending_first_6 = average_of_first_n(descending_numbers, 6)\n",
        "\n",
        "print(\"\\nAverage of the first 6 numbers in ascending order:\")\n",
        "print(f\"{average_ascending_first_6}\")\n",
        "\n",
        "print(\"\\nAverage of the first 6 numbers in descending order:\")\n",
        "print(f\"{average_descending_first_6}\")\n"
      ]
    },
    {
      "cell_type": "markdown",
      "metadata": {
        "id": "1F_PZdH9Sh49"
      },
      "source": [
        "# Question 3 (20 points).\n",
        "\n",
        "Create a Python program that encompasses various string manipulation task:\n",
        "\n",
        "(a) Prompt the user to input two sentences.\n",
        "\n",
        "(b) Transform each sentence into a list, where each element corresponds to a word in the sentence. For example, if the sentences are \"Hello, how are you doing today?\" and \"This is an example sentence for the program!\"\n",
        "\n",
        "The program should output:\n",
        "['Hello', ',', 'how', 'are', 'you', 'doing', 'today', '?', 'This', 'is', 'an', 'example', 'sentence', 'for', 'the', 'program', '!']\n",
        "\n",
        "(c) Compare the two sentences. Print out a list of words that occur in both sentences.\n",
        "\n",
        "(d) Remove any punctuation from the sentence and print the sanitized sentences. It should remove at least the following characters, but it can remove more: period(“.”), comma (“,”), semicolon (“;”), and colon (“:”).\n",
        "\n",
        "(e) Count the number of vowels in each of the sentences. Print out each vowel and the occurrences  in the each of the two sentences separately, such as:\n",
        "\n",
        "Sentence1: a:2, e:2, i:0, etc.\n",
        "Sentence2: a:1, e:2, i:2, etc.\n",
        "\n",
        "Design a well-structured Python program to execute these tasks efficiently."
      ]
    },
    {
      "cell_type": "code",
      "execution_count": 11,
      "metadata": {
        "id": "Y0oOSlsOS0cq",
        "colab": {
          "base_uri": "https://localhost:8080/"
        },
        "outputId": "f7e4cc19-bd94-4c6d-9414-2ef59897ff84"
      },
      "outputs": [
        {
          "output_type": "stream",
          "name": "stdout",
          "text": [
            "Enter the first sentence: Hi my name is Hitesh\n",
            "Enter the second sentence: This is a Test. punctuation: - \"-\",%\n",
            "\n",
            "Combined list of words:\n",
            "['Hi', 'my', 'name', 'is', 'Hitesh', 'This', 'is', 'a', 'Test.', 'punctuation:', '-', '\"-\",%']\n",
            "\n",
            "Words that occur in both sentences:\n",
            "['is']\n",
            "\n",
            "Sanitized sentences:\n",
            "Sentence 1: Hi my name is Hitesh\n",
            "Sentence 2: This is a Test punctuation  \n",
            "\n",
            "Vowel counts:\n",
            "Sentence 1: a:1, e:2, i:3, o:0, u:0, \n",
            "Sentence 2: a:2, e:1, i:3, o:1, u:2, \n"
          ]
        }
      ],
      "source": [
        "import string\n",
        "from collections import Counter\n",
        "\n",
        "# (a) Prompt the user to input two sentences\n",
        "sentence1 = input(\"Enter the first sentence: \")\n",
        "sentence2 = input(\"Enter the second sentence: \")\n",
        "\n",
        "# (b) Transform each sentence into a list of words, including punctuation\n",
        "def tokenize(sentence):\n",
        "    return [word for word in sentence.split()]\n",
        "\n",
        "words1 = tokenize(sentence1)\n",
        "words2 = tokenize(sentence2)\n",
        "\n",
        "combined_words = words1 + words2\n",
        "print(\"\\nCombined list of words:\")\n",
        "print(combined_words)\n",
        "\n",
        "# (c) Compare the two sentences and print a list of words that occur in both sentences\n",
        "set1 = set(words1)\n",
        "set2 = set(words2)\n",
        "common_words = set1.intersection(set2)\n",
        "print(\"\\nWords that occur in both sentences:\")\n",
        "print(list(common_words))\n",
        "\n",
        "# (d) Remove punctuation from the sentences and print the sanitized sentences\n",
        "def remove_punctuation(sentence):\n",
        "    return sentence.translate(str.maketrans('', '', string.punctuation))\n",
        "\n",
        "sanitized_sentence1 = remove_punctuation(sentence1)\n",
        "sanitized_sentence2 = remove_punctuation(sentence2)\n",
        "\n",
        "print(\"\\nSanitized sentences:\")\n",
        "print(\"Sentence 1:\", sanitized_sentence1)\n",
        "print(\"Sentence 2:\", sanitized_sentence2)\n",
        "\n",
        "# (e) Count the number of vowels in each sentence\n",
        "def count_vowels(sentence):\n",
        "    vowels = 'aeiou'\n",
        "    vowel_count = Counter(char.lower() for char in sentence if char.lower() in vowels)\n",
        "    return vowel_count\n",
        "\n",
        "vowel_count1 = count_vowels(sentence1)\n",
        "vowel_count2 = count_vowels(sentence2)\n",
        "\n",
        "# Print vowel occurrences\n",
        "def print_vowel_count(vowel_count, label):\n",
        "    print(f\"{label}: \", end=\"\")\n",
        "    for vowel in 'aeiou':\n",
        "        print(f\"{vowel}:{vowel_count.get(vowel, 0)}\", end=\", \")\n",
        "    print()\n",
        "\n",
        "print(\"\\nVowel counts:\")\n",
        "print_vowel_count(vowel_count1, \"Sentence 1\")\n",
        "print_vowel_count(vowel_count2, \"Sentence 2\")\n"
      ]
    },
    {
      "cell_type": "markdown",
      "source": [
        "# Question 4 (20 Points)"
      ],
      "metadata": {
        "id": "OP4-5qxAtInv"
      }
    },
    {
      "cell_type": "markdown",
      "source": [
        "Design and implement a simple command-line calculator program. The program should handle both integers and floating-point numbers.\n",
        "\n",
        "(a) Write program that takes a mathematical expression as input and evaluates it. The program should support addition, subtraction, multiplication, and division.\n",
        "\n",
        "(b) Extend the calculator to handle parentheses in mathematical expressions. Implement the necessary logic to evaluate expressions with nested parentheses.\n",
        "\n",
        "(c) Enhance your calculator to include additional mathematical operations such as exponentiation, square root, and modulus.\n",
        "\n",
        "(d) Implement error handling in the calculator program. Handle cases such as division by zero and invalid input expressions. Provide meaningful error messages.\n",
        "\n",
        "(e) Implement a command to exit the calculator."
      ],
      "metadata": {
        "id": "uzN4_hDptK9U"
      }
    },
    {
      "cell_type": "code",
      "source": [
        "import math\n",
        "\n",
        "# (a) Function to evaluate basic mathematical expressions\n",
        "def evaluate_expression(expression):\n",
        "    try:\n",
        "        return eval(expression)\n",
        "    except ZeroDivisionError:\n",
        "        return \"Error: Division by zero is not allowed.\"    # (d) Implement error handling in the calculator program\n",
        "    except Exception as e:\n",
        "        return f\"Error: Invalid input. ({e})\"\n",
        "\n",
        "# (b) Function to handle parentheses in mathematical expressions\n",
        "#  eval() function supports expressions with parentheses , so no logic is needed to handle paranthesis\n",
        "\n",
        "# (c) Extend to handle exponentiation (**), square root, and modulus\n",
        "def custom_eval(expression):\n",
        "    # Replace sqrt with math.sqrt and add logic for other operations\n",
        "    expression = expression.replace(\"sqrt\", \"math.sqrt\")\n",
        "    return evaluate_expression(expression)\n",
        "\n",
        "# (e) Command to exit the calculator program\n",
        "def calculator():\n",
        "    print(\"Simple Command-Line Calculator\")\n",
        "    print(\"Type 'exit' to quit the calculator.\")\n",
        "    print(\"You can use operations like +, -, *, /, ** (exponentiation), sqrt(), and % (modulus).\")\n",
        "\n",
        "    while True:\n",
        "\n",
        "        expression = input(\"\\nEnter a mathematical expression: \").strip()\n",
        "\n",
        "\n",
        "        if expression.lower() == \"exit\":\n",
        "            print(\"Exiting the calculator.\")\n",
        "            break\n",
        "\n",
        "        result = custom_eval(expression)\n",
        "        print(f\"Result: {result}\")\n",
        "\n",
        "calculator()\n"
      ],
      "metadata": {
        "id": "8nQnVxjJuYtu",
        "colab": {
          "base_uri": "https://localhost:8080/"
        },
        "outputId": "3c5f3d81-3372-4a06-b978-017bd0878da1"
      },
      "execution_count": 3,
      "outputs": [
        {
          "output_type": "stream",
          "name": "stdout",
          "text": [
            "Simple Command-Line Calculator\n",
            "Type 'exit' to quit the calculator.\n",
            "You can use operations like +, -, *, /, ** (exponentiation), sqrt(), and % (modulus).\n",
            "\n",
            "Enter a mathematical expression: 5%2\n",
            "Result: 1\n",
            "\n",
            "Enter a mathematical expression: exit\n",
            "Exiting the calculator.\n"
          ]
        }
      ]
    },
    {
      "cell_type": "markdown",
      "metadata": {
        "id": "z3tBE7E-Xn5X"
      },
      "source": [
        "# Question 5 (30 points).\n",
        "\n",
        "In the field of Data Science, data is often formatted as a comma-delimited (CSV) file, where each line in a file corresponds to a field's value. Refer to Chapter 9 (p. 106) for more information on comma-delimited files.\n",
        "\n",
        "To answer this question, you will need to download the file [Assignment1_denton_housing.csv](https://raw.githubusercontent.com/unt-iialab/info5731-spring2022/main/assignments/Assignment1_denton_housing.csv) included with this assignment. The file contains statistics about housing in the city of Denton from 2008 to 2014. Write a program to implement the following questions.\n",
        "\n",
        "(a) (5 pts) Calculate the difference in the number of Occupied Housing Units from year to year and print it. The difference must be calculated for the consecutive years such as 2008-2009, 2009-2010 etc. Finally, print the values in the ascending order.\n",
        "\n",
        "(b) (5 pts) For all the years, calculate the percentage of housing units which are vacant an occupied. Print the results in the following format:\n",
        "\n",
        "Year Vacant Housing Units Occupied Housing Units\n",
        "\n",
        "    2008  30%   70%                          \n",
        "\t2009 ----- -----\n",
        "\t2010 ----- -----\n",
        "    2011 ----- -----\n",
        "\t2012 ----- -----\n",
        "    2013 ----- -----\n",
        "\t2014 ----- -----\n",
        "  \n",
        "  \n",
        "\n",
        "(c) (10 pts) Calculate and print the valued and years in which the highest number of housing units were vacant and occupied. Print the results in the following format:  \n",
        "\n",
        "                              Year\tValue\n",
        "\tVacant Housing Units\t  -----   -----\n",
        "\tOccupied Housing Units\t-----   -----\n",
        "\n",
        "(d) (10 pts) Calculate the harmonic mean of the total housing units and print it out. You can find the information about harmonic mean here: https://ncalculators.com/statistics/harmonic-mean-calculator.htm"
      ]
    },
    {
      "cell_type": "code",
      "execution_count": 5,
      "metadata": {
        "id": "lqGYuHBhcsRH",
        "colab": {
          "base_uri": "https://localhost:8080/"
        },
        "outputId": "42084366-6e07-44a6-93e7-eacea603abbc"
      },
      "outputs": [
        {
          "output_type": "stream",
          "name": "stdout",
          "text": [
            "Difference in Occupied Housing Units year-to-year (sorted):\n",
            "1    -795.0\n",
            "3    -303.0\n",
            "4    1404.0\n",
            "5    1565.0\n",
            "6    2622.0\n",
            "2    5091.0\n",
            "Name: value, dtype: float64\n",
            "\n",
            "Yearly Percentages of Vacant and Occupied Housing Units:\n",
            "   year   Vacant %  Occupied %\n",
            "0  2014   5.730111   94.269889\n",
            "1  2013   8.801788   91.198212\n",
            "2  2012   6.677600   93.322400\n",
            "3  2011   9.379522   90.620478\n",
            "4  2010   8.142556   91.857444\n",
            "5  2009   9.071116   90.928884\n",
            "6  2008  10.882653   89.117347\n",
            "\n",
            "Year and Value for the highest number of Vacant and Occupied Housing Units:\n",
            "Vacant Housing Units: Year = 2008, Value = 4483\n",
            "Occupied Housing Units: Year = 2014, Value = 46295\n",
            "\n",
            "Harmonic Mean of Total Housing Units: 44398.28543969185\n"
          ]
        }
      ],
      "source": [
        "import pandas as pd\n",
        "from scipy.stats import hmean\n",
        "\n",
        "url = \"https://raw.githubusercontent.com/unt-iialab/info5731-spring2022/main/assignments/Assignment1_denton_housing.csv\"\n",
        "data = pd.read_csv(url)\n",
        "\n",
        "# (a) Calculate the difference in the number of Occupied Housing Units from year to year and print it\n",
        "occupied_units = data[data['title_field'] == 'Occupied Housing Units']\n",
        "\n",
        "occupied_units = occupied_units.sort_values(by='year').reset_index(drop=True)\n",
        "occupied_diff = occupied_units['value'].diff().dropna()\n",
        "\n",
        "occupied_diff_sorted = occupied_diff.sort_values()\n",
        "print(\"Difference in Occupied Housing Units year-to-year (sorted):\")\n",
        "print(occupied_diff_sorted)\n",
        "\n",
        "# (b) Calculate the percentage of vacant and occupied housing units for each year\n",
        "total_units = data[data['title_field'] == 'Total Housing Units']\n",
        "vacant_units = data[data['title_field'] == 'Vacant Housing Units']\n",
        "occupied_units = data[data['title_field'] == 'Occupied Housing Units']\n",
        "\n",
        "merged_data = pd.merge(vacant_units[['year', 'value']], occupied_units[['year', 'value']], on='year')\n",
        "merged_data.columns = ['year', 'Vacant', 'Occupied']\n",
        "\n",
        "merged_data['Total'] = merged_data['Vacant'] + merged_data['Occupied']\n",
        "merged_data['Vacant %'] = (merged_data['Vacant'] / merged_data['Total']) * 100\n",
        "merged_data['Occupied %'] = (merged_data['Occupied'] / merged_data['Total']) * 100\n",
        "\n",
        "print(\"\\nYearly Percentages of Vacant and Occupied Housing Units:\")\n",
        "print(merged_data[['year', 'Vacant %', 'Occupied %']])\n",
        "\n",
        "\n",
        "# (c) Calculate and print the values and years with the highest number of vacant and occupied housing units\n",
        "max_vacant = vacant_units.loc[vacant_units['value'].idxmax()]\n",
        "max_occupied = occupied_units.loc[occupied_units['value'].idxmax()]\n",
        "\n",
        "print(\"\\nYear and Value for the highest number of Vacant and Occupied Housing Units:\")\n",
        "print(f\"Vacant Housing Units: Year = {max_vacant['year']}, Value = {max_vacant['value']}\")\n",
        "print(f\"Occupied Housing Units: Year = {max_occupied['year']}, Value = {max_occupied['value']}\")\n",
        "\n",
        "\n",
        "# (d) Calculate the harmonic mean of the total housing units\n",
        "total_housing_units = total_units['value']\n",
        "harmonic_mean_total = hmean(total_housing_units)\n",
        "print(f\"\\nHarmonic Mean of Total Housing Units: {harmonic_mean_total}\")\n"
      ]
    },
    {
      "cell_type": "markdown",
      "source": [
        "# Mandatory Question\n",
        "\n",
        "Provide your thoughts on the assignment. What did you find challenging, and what aspects did you enjoy? Your opinion on the provided time to complete the assignment. Share any suggestions for improvement. Your feedback will be valuable for enhancing the learning experience."
      ],
      "metadata": {
        "id": "q8BFCvWp32cf"
      }
    },
    {
      "cell_type": "code",
      "source": [
        "# The assignment was more challenging than the last one, but I enjoyed it. This assignments brushed up my python skills to manipulate and analyze data\n",
        "# and also helped me to brush up important libraries like math ,pandas ,counter scipy and more."
      ],
      "metadata": {
        "id": "_e557s2w4BpK"
      },
      "execution_count": null,
      "outputs": []
    }
  ],
  "metadata": {
    "colab": {
      "provenance": [],
      "include_colab_link": true
    },
    "kernelspec": {
      "display_name": "Python 3 (ipykernel)",
      "language": "python",
      "name": "python3"
    },
    "language_info": {
      "codemirror_mode": {
        "name": "ipython",
        "version": 3
      },
      "file_extension": ".py",
      "mimetype": "text/x-python",
      "name": "python",
      "nbconvert_exporter": "python",
      "pygments_lexer": "ipython3",
      "version": "3.9.12"
    }
  },
  "nbformat": 4,
  "nbformat_minor": 0
}